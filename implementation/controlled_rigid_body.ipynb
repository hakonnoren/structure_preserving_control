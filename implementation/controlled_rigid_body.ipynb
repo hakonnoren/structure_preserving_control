{
 "cells": [
  {
   "cell_type": "code",
   "execution_count": null,
   "metadata": {},
   "outputs": [],
   "source": [
    "import numpy as np\n",
    "from matplotlib import pyplot as plt\n",
    "from utils_np import *\n",
    "from visualization import *"
   ]
  },
  {
   "cell_type": "markdown",
   "metadata": {},
   "source": [
    "## Numerical methods\n",
    "\n",
    "We define the midpoint method and explicit Euler for the angular velocity $\\omega$ and Lie Euler for the orientation $R$. We use a simple fixed point iteration to solve the implicit midpoint method."
   ]
  },
  {
   "cell_type": "code",
   "execution_count": null,
   "metadata": {},
   "outputs": [],
   "source": [
    "def fixed_point_iter(x0,dt,f_method):\n",
    "    w0,_ = x0\n",
    "    w1 = w0\n",
    "    x1 = (w1,None)\n",
    "    while np.linalg.norm(w1 - (w0 + dt*f_method(x0,x1))) > 1e-15:\n",
    "        w1 = w0 + dt*f_method(x0,x1)\n",
    "        x1 = (w1,None)\n",
    "    return w1\n",
    "\n",
    "def midpoint(x0,dt,f):\n",
    "    \n",
    "    def f_method(x0,x1):\n",
    "        w0,R0 = x0\n",
    "        w1,_ = x1\n",
    "        return f(.5*(w0+w1),R0)\n",
    "    \n",
    "    return fixed_point_iter(x0,dt,f_method)\n",
    "\n",
    "def explicit_euler(x0,dt,f):\n",
    "    w0,R0 = x0\n",
    "    return w0 + dt*f(w0,R0)\n",
    "\n",
    "def implicit_euler(x0,dt,f):\n",
    "    \n",
    "    def f_method(x0,x1):\n",
    "        w0,R0 = x0\n",
    "        w1,_ = x1\n",
    "        return f(w1,R0)\n",
    "    \n",
    "    return fixed_point_iter(x0,dt,f_method)\n",
    "\n",
    "\n",
    "def lie_euler(x0,dt,f):\n",
    "    w0,R0 = x0\n",
    "    return R0@rodrigues(dt*f(w0))\n",
    "\n"
   ]
  },
  {
   "cell_type": "code",
   "execution_count": null,
   "metadata": {},
   "outputs": [],
   "source": [
    "def integrate_rigid_body(w0,R0,dt,N,f_w,f_R,phi_w,phi_R):\n",
    "    \"\"\" \n",
    "    w0:     initial value angular velocity (R^3)\n",
    "    R0:     initial value orientation (SO(3))\n",
    "    dt:     step size in time\n",
    "    N:      number of time steps\n",
    "    f_w:    vector field for anngular velocity\n",
    "    f_R:    vector field for orientation\n",
    "    phi_w:  integrator for angular velocity\n",
    "    phi_R:  integrator for orientation\n",
    "    \"\"\"\n",
    "    Rs = [R0]\n",
    "    ws = [w0]\n",
    "\n",
    "    for n in range(N):\n",
    "        R0 = Rs[-1]\n",
    "        w0 = ws[-1]\n",
    "        x0 = (w0,R0)\n",
    "        ws.append(phi_w(x0,dt,f=f_w))\n",
    "        Rs.append(phi_R(x0,dt,f=f_R))\n",
    "\n",
    "    Rs = np.stack(Rs)\n",
    "    ws = np.stack(ws)\n",
    "\n",
    "    return ws,Rs\n",
    "\n"
   ]
  },
  {
   "cell_type": "markdown",
   "metadata": {},
   "source": [
    "## Solving IVP for a uncontrolled rigid body\n",
    "\n",
    "We first set initial values and the moments of inertia, and define the time derivative of the angular velocity and orientation. Additionally, we define the Hamiltonian as a function of $\\omega$."
   ]
  },
  {
   "cell_type": "code",
   "execution_count": null,
   "metadata": {},
   "outputs": [],
   "source": [
    "#Initial values\n",
    "R0 = get_orth(3,seed=10)\n",
    "w0 = np.array([-0.1,0.1,0.3])\n",
    "\n",
    "#Moments of inertia and inverse\n",
    "diag_I = np.array([1,0.8,1.7])\n",
    "I = np.diag(diag_I)\n",
    "I_inv = np.diag(1/diag_I)\n",
    "\n",
    "#Defining the time derivatives\n",
    "w_dot = lambda w,R : I_inv@hat(I@w)@w \n",
    "R_dot = lambda w : hat(w)\n",
    "\n",
    "#Hamiltonian, which is just the rotational kinetic energy (recall p = I@w and H(p) = .5*p.T@I@p)\n",
    "hamiltonian = lambda w : 0.5*I@w.T@I_inv@I@w"
   ]
  },
  {
   "cell_type": "code",
   "execution_count": null,
   "metadata": {},
   "outputs": [],
   "source": [
    "#Step size and number of steps\n",
    "dt = 0.1\n",
    "N = 1000\n",
    "\n",
    "#Choosing vector fields and integrators\n",
    "f_w =       w_dot\n",
    "f_R =       R_dot\n",
    "phi_w =     explicit_euler\n",
    "phi_R =     lie_euler\n",
    "\n",
    "ws,Rs = integrate_rigid_body(w0,R0,dt,N,f_w,f_R,phi_w,phi_R)\n",
    "plot_energy_orth(hamiltonian,dt,ws,Rs)\n",
    "plot_trajectory_S2(R0,Rs,i=1)"
   ]
  },
  {
   "cell_type": "markdown",
   "metadata": {},
   "source": [
    "## Applying ES & DI control for a rigid body\n",
    "\n",
    "Setting initial values and the target orientation ```Rref``` as well as gains ```Kp,Kd``` for the controls."
   ]
  },
  {
   "cell_type": "code",
   "execution_count": null,
   "metadata": {},
   "outputs": [],
   "source": [
    "#Initial values\n",
    "R0 = get_orth(3,seed=10)\n",
    "w0 = np.array([-0.1,0.1,0.3])\n",
    "Rref = get_orth(3,seed=0)\n",
    "\n",
    "\n",
    "#Controller gains and desired orientation\n",
    "Kp = np.diag([1]*3)\n",
    "Kd = Kp\n",
    "\n",
    "#Defining the energy shaping and damping injection controls\n",
    "u_es = lambda R: -0.5*hat_inv(Kp@Rref.T@R - R.T@Rref@Kp.T)\n",
    "u_di = lambda w: -Kd@w\n",
    "\n",
    "#Time derivatives with controls\n",
    "w_dot_es_di = lambda w,R : I_inv@(hat(I@w)@w + u_es(R) + u_di(w) )\n",
    "R_dot = lambda w : hat(w) \n",
    "\n",
    "#Injected control energy H_ref (for plotting)\n",
    "hamiltonian_ref = lambda R : .5*np.trace(Kp@(np.eye(3) - Rref.T@R))\n",
    "yTu_midpoint = lambda R,w0,w1 :  .5*(w0+w1).T@(u_es(R) + u_di(.5*(w0+w1)))\n",
    "yTu_euler = lambda R,w0,w1 :  w0.T@(u_es(R) + u_di(w0))\n",
    "\n",
    "\n"
   ]
  },
  {
   "cell_type": "markdown",
   "metadata": {},
   "source": [
    "## Integrating controlled rigid body with explicit Euler"
   ]
  },
  {
   "cell_type": "code",
   "execution_count": null,
   "metadata": {},
   "outputs": [],
   "source": [
    "#Step size and number of steps\n",
    "dt = 0.2\n",
    "N = 100\n",
    "\n",
    "#Choosing vector fields and integrators\n",
    "f_w =       w_dot_es_di  \n",
    "f_R =       R_dot\n",
    "phi_w =     explicit_euler\n",
    "phi_R =     lie_euler\n",
    "yTu =       yTu_euler\n",
    "\n",
    "\n",
    "ws,Rs = integrate_rigid_body(w0,R0,dt,N,f_w,f_R,phi_w,phi_R)\n",
    "plot_discrete_energy_balance(hamiltonian,yTu_euler,dt,ws,Rs)\n",
    "plot_energy_orth(hamiltonian,dt,ws,Rs,H_ref = hamiltonian_ref)\n",
    "plot_trajectory_S2(R0,Rs,Rref=Rref,i=2)"
   ]
  },
  {
   "cell_type": "markdown",
   "metadata": {},
   "source": [
    "## Integrating controlled rigid body with implicit Euler"
   ]
  },
  {
   "cell_type": "code",
   "execution_count": null,
   "metadata": {},
   "outputs": [],
   "source": [
    "#Step size and number of steps\n",
    "dt = 0.2\n",
    "N = 100\n",
    "\n",
    "f_w =       w_dot_es_di\n",
    "f_R =       R_dot\n",
    "phi_w =     midpoint\n",
    "phi_R =     lie_euler\n",
    "yTu =       yTu_midpoint\n",
    "\n",
    "\n",
    "ws,Rs = integrate_rigid_body(w0,R0,dt,N,f_w,f_R,phi_w,phi_R)\n",
    "plot_discrete_energy_balance(hamiltonian,yTu,dt,ws,Rs)\n",
    "plot_energy_orth(hamiltonian,dt,ws,Rs,H_ref = hamiltonian_ref)\n",
    "plot_trajectory_S2(R0,Rs,Rref=Rref,i=2)"
   ]
  },
  {
   "cell_type": "code",
   "execution_count": null,
   "metadata": {},
   "outputs": [],
   "source": []
  }
 ],
 "metadata": {
  "kernelspec": {
   "display_name": "torch",
   "language": "python",
   "name": "python3"
  },
  "language_info": {
   "codemirror_mode": {
    "name": "ipython",
    "version": 3
   },
   "file_extension": ".py",
   "mimetype": "text/x-python",
   "name": "python",
   "nbconvert_exporter": "python",
   "pygments_lexer": "ipython3",
   "version": "3.8.15"
  }
 },
 "nbformat": 4,
 "nbformat_minor": 2
}
